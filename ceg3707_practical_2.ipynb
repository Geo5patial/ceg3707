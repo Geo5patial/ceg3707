{
 "cells": [
  {
   "cell_type": "markdown",
   "id": "dcdb2fb1",
   "metadata": {},
   "source": [
    "<img src=\"./img/ceg3707_logo_notebook.png\" alt=\"Drawing\"/>\n",
    "\n",
    "# Practical 2"
   ]
  },
  {
   "cell_type": "markdown",
   "id": "8281f997",
   "metadata": {},
   "source": [
    "### Student Information:\n",
    "\n",
    "Please input you full name and your university ID in the following cell."
   ]
  },
  {
   "cell_type": "code",
   "execution_count": null,
   "id": "c26b8d2a",
   "metadata": {},
   "outputs": [],
   "source": [
    "name = \"...\"\n",
    "student_id = \"...\""
   ]
  },
  {
   "cell_type": "markdown",
   "id": "d68218b4",
   "metadata": {},
   "source": [
    "This practical aims to guide you through the interpretation of Interferometric Synthetic Aperture Radar (InSAR) for deformation monitoring. Two examples are introduced: (i) coseismic surface displacement for a moderate-sized earthquake and (ii) surface displacement associate with a volcanic magma inflation. You will use InSAR observations to discuss the hazard implications of the area in which the events occurred.\n",
    "\n",
    "## Part 1\n",
    "\n",
    "### Introduction\n",
    "\n",
    "On the 24th March 2011, a magnitude 6.8 earthquake struck the Shan state in East Myanmar. The earthquake caused nearly 70 fatalities and hundreds of injuries and large infrastructure damages following many landslides. The earthquake generated intense ground shaking and was felt many kilometres away from the epicentre. Fortunately, the ALOS-1 mission was operational. ALOS-1 was operated by the Japan Aerospace Exploration Agency (JAXA) and collected L‐band InSAR observations. The two figures below correspond to the derived coseismic interferograms in different looking directions.\n",
    "\n",
    "\n",
    "- **Figure 1**\n",
    "<img src=\"./img/burma2011_descending_anotate.png\" alt=\"Drawing\" style=\"width: 500px;\"/>\n",
    "\n",
    "- **Figure 2**\n",
    "<img src=\"./img/burma2011_ascending.png\" alt=\"Drawing\" style=\"width: 500px;\"/>\n",
    "\n",
    "### What does the interferogram tell us about the earthquake?\n",
    "\n",
    "The interferograms (Figures 1 and 2) represents a map of the displacement of the ground surface during the earthquake. The pattern of interference fringes can be interpreted as a series of contours of equal surface displacement. When interpreting such a pattern it is important to know the sign convention used in plotting the interferogram. In this case, each successive cycle of colours from blue to green to yellow indicates an increase in the distance between the ground and the satellite. If we assume that the \"far-field\" of the interferogram was not displaced in the earthquake, then we can estimate the amount of displacement in the earthquake by starting in the far-field (the zero displacement line) and counting the fringes inwards.\n",
    "Such data can be used to give additional information about the earthquake that could not be determined by seismology or field investigation alone, such as the amounts and relative proportions of uplift and subsidence caused by the event over an area tens of kilometres wide. In combination with the digital elevation model of the same area, we can also examine the relationship between earthquakes and surface topography.\n",
    "\n",
    "\n",
    "### Question 1\n",
    "\n",
    "Given that figures 1 and 2 were derived from a descending and ascending orbits respectively, from the options below select the satellite look direction. The black arrow reprents the flight track and the blue refers to the look direction.\n",
    "\n",
    "<img src=\"./img/sat_look_direction.png\" alt=\"Drawing\" style=\"width: 200px;\"/>\n"
   ]
  },
  {
   "cell_type": "code",
   "execution_count": 1,
   "id": "a0778060",
   "metadata": {},
   "outputs": [],
   "source": [
    "# input your option for each interferogram using the letters A-C\n",
    "figure1 = \"...\"\n",
    "figure2 = \"...\""
   ]
  },
  {
   "cell_type": "markdown",
   "id": "348a9951",
   "metadata": {},
   "source": [
    "### Question 2\n",
    "\n",
    "Starting at the zero displacement fringes, count the maximum number of fringes on each side of the fault. Use the zoom tool to help you where the fringes are very close together.\n",
    "\n",
    "    Number of fringes south of the fault;\n",
    "    Number of fringes north of the fault.\n"
   ]
  },
  {
   "cell_type": "code",
   "execution_count": 2,
   "id": "2cace77b",
   "metadata": {},
   "outputs": [],
   "source": [
    "number_fringes_south = ...\n",
    "number_fringes_north = ..."
   ]
  },
  {
   "cell_type": "markdown",
   "id": "b9972991",
   "metadata": {},
   "source": [
    "### Question 3\n",
    "\n",
    "What is the total offset in line-of-sight displacement (range change) at the fault (r)? Note that one side has moved away and one side towards the satellite... the offset is the step in range change from one side to the other.\n",
    "\n",
    "    - Line-of-sight offset, r [mm].\n",
    "\n",
    "*Hint:  1 fringe = half of the wavelength motion in the satellite line of sight. Measurements are all relative to the \"Zero displacement\" fringe shown as a dashed white line in the figure.*\n"
   ]
  },
  {
   "cell_type": "code",
   "execution_count": null,
   "id": "66668e17",
   "metadata": {},
   "outputs": [],
   "source": []
  },
  {
   "cell_type": "markdown",
   "id": "698ef9e4",
   "metadata": {},
   "source": [
    "### Question 4\n",
    "\n",
    "Elastic modelling of the interferogram and information from seismology suggests that the fault dips at 45 degrees. Assuming that the total observed offset is on the vertical component (subsidence/offset), how much slip on the fault would be required to produce it?\n",
    "\n",
    "You will need triggonometric functions to perform your calculation. I important a few for you:"
   ]
  },
  {
   "cell_type": "code",
   "execution_count": 3,
   "id": "115130f4",
   "metadata": {},
   "outputs": [],
   "source": [
    "from math import cos,sin,tan,radians"
   ]
  },
  {
   "cell_type": "markdown",
   "id": "1e9b7a68",
   "metadata": {},
   "source": [
    "**Use the cell below to do your calculation.**"
   ]
  },
  {
   "cell_type": "code",
   "execution_count": null,
   "id": "03be4b63",
   "metadata": {},
   "outputs": [],
   "source": []
  },
  {
   "cell_type": "markdown",
   "id": "f88b8bc4",
   "metadata": {},
   "source": [
    "Use the cell below to input your comments"
   ]
  },
  {
   "cell_type": "raw",
   "id": "f22c173a",
   "metadata": {},
   "source": [
    "\n",
    "\n",
    "\n",
    "\n",
    "\n",
    "\n",
    "\n",
    "\n"
   ]
  },
  {
   "cell_type": "markdown",
   "id": "a31d49de",
   "metadata": {},
   "source": [
    "### Question 5\n",
    "\n",
    "The long-term slip rate for the Nam Ma fault (NMF) **the fault in your interferogram** is approximately 3 mm/yr. What is the repeat time for earthquakes at Burma fault?\n"
   ]
  },
  {
   "cell_type": "code",
   "execution_count": null,
   "id": "5f73f7b3",
   "metadata": {},
   "outputs": [],
   "source": []
  },
  {
   "cell_type": "markdown",
   "id": "0691ddc0",
   "metadata": {},
   "source": [
    "### Question 6\n",
    "\n",
    "When approximately do you expect the next big earthquake on the NMF? What assumptions did you make for this estimate? Discuss your choice.\n"
   ]
  },
  {
   "cell_type": "code",
   "execution_count": null,
   "id": "70534a40",
   "metadata": {},
   "outputs": [],
   "source": []
  },
  {
   "cell_type": "markdown",
   "id": "06eb8eb6",
   "metadata": {},
   "source": [
    "Use the cell below to input your comments"
   ]
  },
  {
   "cell_type": "raw",
   "id": "dea90cd6",
   "metadata": {},
   "source": [
    "\n",
    "\n",
    "\n",
    "\n",
    "\n",
    "\n"
   ]
  },
  {
   "cell_type": "markdown",
   "id": "1670a702",
   "metadata": {},
   "source": [
    "## Part 2\n",
    "\n",
    "The Yellowstone Caldera is a volcanic caldera in Yellowstone National Park in the Western United States, sometimes referred to as the Yellowstone Supervolcano. Over the last 2.1 million years, there have been three major eruptions at Yellowstone, resulting in a Mean Recurrence Interval (MRI) of 600,00-800,000 years (Figure 3).\n",
    "\n",
    "\n",
    "<img src=\"./img/ggge20543-fig-0001-m.jpeg\" alt=\"Drawing\" style=\"width: 600px;\"/>\n",
    "\n",
    "An InSAR interferogram was calculated between June 2015 and July 2017 (USGS) was obtained from the ENVISAT mission (Figure 4).\n",
    "\n",
    "<img src=\"./img/yellowstine_cald_getsi_mod.png\" alt=\"Drawing\" style=\"width: 700px;\"/>\n",
    "\n",
    "### Question 1:\n",
    "\n",
    "Analyse the interferrogram and indicate where do you observe an inflation/deflation signals?\n",
    "\n",
    "Hint:\n",
    "\n",
    "- Deflation = fringes colors from purple to blue-green-yellow-red\n",
    "- Inflation = fringe colors change from red to yellow-green-blue to purple"
   ]
  },
  {
   "cell_type": "raw",
   "id": "86b0a8dd",
   "metadata": {},
   "source": []
  },
  {
   "cell_type": "markdown",
   "id": "7a3f50fd",
   "metadata": {},
   "source": [
    "### Question 2:\n",
    "\n",
    "What is the maximum uplift/subsidence observed [cm] in Norris Geyser Basin ?"
   ]
  },
  {
   "cell_type": "code",
   "execution_count": null,
   "id": "05ca6e1a",
   "metadata": {},
   "outputs": [],
   "source": []
  },
  {
   "cell_type": "markdown",
   "id": "ff2ab443",
   "metadata": {},
   "source": [
    "### Question 3:\n",
    "\n",
    "What type of deformation you observe in the south caldera, what is maximum displacement [cm] (indicate whether it is a subsidence or uplift)?"
   ]
  },
  {
   "cell_type": "raw",
   "id": "dcb00ccf",
   "metadata": {},
   "source": [
    "\n",
    "\n",
    "\n"
   ]
  },
  {
   "cell_type": "markdown",
   "id": "39e8b2ab",
   "metadata": {},
   "source": [
    "### Question 4:\n",
    "\n",
    "A GPS station located in Norris was recording continuous vertical positions at the period interval of InSAR (figure below).\n",
    "\n",
    "<img src=\"./img/NRWY_up.png\" alt=\"Drawing\" style=\"width: 1000px;\"/>\n",
    "\n",
    "Do you observe any movement in the GPS time series [positive: uplift and negative subsidence]. Compare with your InSAR result. Is the GPS consistent with InSAR? Discuss.\n"
   ]
  },
  {
   "cell_type": "raw",
   "id": "6f47c08d",
   "metadata": {},
   "source": [
    "\n",
    "\n",
    "\n",
    "\n"
   ]
  },
  {
   "cell_type": "markdown",
   "id": "2b8bce7c",
   "metadata": {},
   "source": [
    "## Part III\n",
    "\n",
    "The goal for this part is to introduce the point source Mogi model to interpret surface displacements from InSAR in volcanic areas. You will describe the sensitivity of the model by varying different parameters of the model (3D source location and volume of magma influx). No programming experience is required. I will explain what each code cell is doing, and indicate where you have to modify the parameters to answer the questions. \n",
    "\n",
    "<img style=\"padding: 7px\" src=\"./img/OkmokdefoGPS.jpg\" width=\"700\" align=\"right\" /> Okmok is one of the more active volcanoes in Alaska’s Aleutian Chain. Its last (confirmed) eruption was in the summer of 2008. Okmok is interesting from an InSAR perspective as it inflates and deflates heavily as magma moves around in its magmatic source located roughly 2.5 km underneath the surface. To learn more about Okmok volcano and its eruptive history, please visit the very informative site of the <a href=\"https://avo.alaska.edu/volcanoes/activity.php?volcname=Okmok&eruptionid=604&page=basic\" target=\"_blank\">Alaska Volcano Observatory</a>.\n",
    "\n",
    "This lab uses a pair of C-band ERS-2 SAR images acquired on Aug 18, 2000 and Jul 19, 2002 to analyze the properties of a volcanic source that was responsible for an inflation of Okmok volcano of more than 3 cm near its summit. The figure to the right shows the Okmok surface displacement as measured by GPS data from field campaigns conducted in 2000 and 2002. The plots show that the displacement measured at the site is consistent with that created by an inflating point (Mogi) source.\n",
    "\n",
    "(*) courtesy to Franz J. Meyer ([UNAVCO 2020 InSAR Workshop](https://www.unavco.org/education/professional-development/short-courses/2020/insar-theory-processing/insar-theory-processing.html))"
   ]
  },
  {
   "cell_type": "markdown",
   "id": "62efb1f6",
   "metadata": {},
   "source": [
    "**Let's start with importing the python modules we need**"
   ]
  },
  {
   "cell_type": "code",
   "execution_count": null,
   "id": "67b0ef59",
   "metadata": {},
   "outputs": [],
   "source": [
    "import os \n",
    "import copy\n",
    "import subprocess\n",
    "import matplotlib.pylab as plt \n",
    "import numpy as np"
   ]
  },
  {
   "cell_type": "code",
   "execution_count": null,
   "id": "a40a55d2",
   "metadata": {},
   "outputs": [],
   "source": [
    "# filename of InSAR surface displacement\n",
    "displacement_map = './data/E451_20000818_20020719.unw'"
   ]
  },
  {
   "cell_type": "markdown",
   "id": "c9d7df2c",
   "metadata": {},
   "source": [
    "**We define dimension parameters of our image**"
   ]
  },
  {
   "cell_type": "code",
   "execution_count": null,
   "id": "fa5c13c9",
   "metadata": {},
   "outputs": [],
   "source": [
    "sample    = 1100\n",
    "line      = 980\n",
    "posting   = 40.0\n",
    "half_wave = 28.3"
   ]
  },
  {
   "cell_type": "markdown",
   "id": "f8d9f662",
   "metadata": {},
   "source": [
    "**We read the dataset into the notebook**, storing our observed displacement map in the variable `observed_displacement_map`"
   ]
  },
  {
   "cell_type": "code",
   "execution_count": null,
   "id": "8ab809f2",
   "metadata": {},
   "outputs": [],
   "source": [
    "with open (displacement_map, 'rb') as f:    \n",
    "    coh = np.fromfile(f, dtype='>f', count=-1)\n",
    "observed_displacement_map = np.reshape(coh, (line, sample))"
   ]
  },
  {
   "cell_type": "markdown",
   "id": "40b85baf",
   "metadata": {},
   "source": [
    "**We scale the measured** and unwrapped InSAR phase into surface displacement in cm units and replace all `nans` with 0"
   ]
  },
  {
   "cell_type": "code",
   "execution_count": null,
   "id": "e50d11be",
   "metadata": {},
   "outputs": [],
   "source": [
    "observed_displacement_map = observed_displacement_map*half_wave/2.0/np.pi\n",
    "where_are_NaNs = np.isnan(observed_displacement_map)\n",
    "observed_displacement_map[where_are_NaNs] = 0"
   ]
  },
  {
   "cell_type": "markdown",
   "id": "13905a8c",
   "metadata": {},
   "source": [
    "**We create a mask** that removes invalid samples (low coherence) from the displacement map: "
   ]
  },
  {
   "cell_type": "code",
   "execution_count": null,
   "id": "68508c2c",
   "metadata": {},
   "outputs": [],
   "source": [
    "observed_displacement_map_m = np.ma.masked_where(observed_displacement_map==0, observed_displacement_map)"
   ]
  },
  {
   "cell_type": "markdown",
   "id": "5273e68f",
   "metadata": {},
   "source": [
    "We write a function that calculates the bounding box"
   ]
  },
  {
   "cell_type": "code",
   "execution_count": null,
   "id": "9583e3fd",
   "metadata": {},
   "outputs": [],
   "source": [
    "def extents(vector_component):\n",
    "    delta = vector_component[1] - vector_component[0]\n",
    "    return [vector_component[0] - delta/2, vector_component[-1] + delta/2]"
   ]
  },
  {
   "cell_type": "markdown",
   "id": "b1c9b35e",
   "metadata": {},
   "source": [
    "**We Write a plotting function**"
   ]
  },
  {
   "cell_type": "code",
   "execution_count": null,
   "id": "392bcd41",
   "metadata": {},
   "outputs": [],
   "source": [
    "def plot_model(infile, line, sample, posting, dpi=72):\n",
    "    # Calculate the bounding box\n",
    "    extent_xvec = extents((np.arange(1, sample*posting, posting)) / 1000)\n",
    "    extent_yvec = extents((np.arange(1, line*posting, posting)) / 1000)\n",
    "    extent_xy = extent_xvec + extent_yvec\n",
    "    \n",
    "    plt.rcParams.update({'font.size': 14})\n",
    "    inwrapped = (infile/10 + np.pi) % (2*np.pi) - np.pi\n",
    "    cmap = copy.copy(plt.cm.get_cmap(\"jet\"))\n",
    "    cmap.set_bad('white', 1.)\n",
    "    \n",
    "    # Plot displacement\n",
    "    fig = plt.figure(figsize=(16, 8))\n",
    "    ax1 = fig.add_subplot(1, 2, 1)\n",
    "    im = ax1.imshow(infile, interpolation='nearest', cmap=cmap, extent=extent_xy, origin='upper')\n",
    "    cbar = ax1.figure.colorbar(im, ax=ax1, orientation='horizontal')\n",
    "    ax1.set_title(\"Displacement in look direction [mm]\")\n",
    "    ax1.set_xlabel(\"Easting [km]\")\n",
    "    ax1.set_ylabel(\"Northing [km]\")\n",
    "    plt.grid()\n",
    "    \n",
    "    # Plot interferogram\n",
    "    im.set_clim(-30, 30)\n",
    "    ax2 = fig.add_subplot(1, 2, 2)\n",
    "    im = ax2.imshow(inwrapped, interpolation='nearest', cmap=cmap, extent=extent_xy, origin='upper')\n",
    "    cbar = ax2.figure.colorbar(im, ax=ax2, orientation='horizontal')\n",
    "    ax2.set_title(\"Interferogram phase [rad]\")\n",
    "    ax2.set_xlabel(\"Easting [km]\")\n",
    "    ax2.set_ylabel(\"Northing [km]\")\n",
    "    plt.grid()"
   ]
  },
  {
   "cell_type": "markdown",
   "id": "f3346489",
   "metadata": {},
   "source": [
    "Call plot_model() **to plot our observed displacement map**"
   ]
  },
  {
   "cell_type": "code",
   "execution_count": null,
   "id": "6d60f17f",
   "metadata": {},
   "outputs": [],
   "source": [
    "plot_model(observed_displacement_map_m, line, sample, posting, dpi=200)"
   ]
  },
  {
   "cell_type": "markdown",
   "id": "90263fd1",
   "metadata": {},
   "source": [
    "### The Mogi Source Forward Model for InSAR Observations\n",
    "\n",
    "#### The Mogi Equation\n",
    "\n",
    "The Mogi model provides the 3D ground displacement, $u(x,y,z)$, due to an inflating source at location $(x_s,y_s,z_s)$ with volume change $V$:\n",
    "\n",
    "\\begin{equation}\n",
    "u(x,y,z)=\\frac{1}{\\pi}(1-\\nu)\\cdot V\\Big(\\frac{x-x_s}{r(x,y,z)^3},\\frac{y-y_s}{r(x,y,z)^3},\\frac{z-z_s}{r(x,y,z)^3}\\Big)\n",
    "\\end{equation}\n",
    "<br>\n",
    "\\begin{equation}\n",
    "r(x,y,z)=\\sqrt{(x-x_s)^2+(y-y_s)^2+(z-z_s)^2}\n",
    "\\end{equation}\n",
    "\n",
    "where $r$ is the distance from the Mogi source to $(x,y,z)$, and $\\nu$ is the Poisson's ratio of the halfspace. The Poisson ratio describes how rocks react when put under stress (e.g., pressure). It is affected by temperature, the quantity of liquid to solid, and the composition of the soil material. <b>In our problem, we will assume that $\\nu$ is fixed</b>. \n",
    "\n",
    "#### Projecting Mogi Displacement to InSAR Line-of-Sight\n",
    "\n",
    "In our example, the $x$-axis points east, $y$ points north, and $z$ points up. However, in the code the input values for $z$ are assumed to be depth, such that the Mogi source is at depth $z_s > 0$. The observed interferogram is already corrected for the effect of topography, so the observations can be considered to be at $z = 0$.\n",
    "    \n",
    "<img style=\"padding: 7px\" src=\"./img/LOSprojection.jpg\" width=\"650\" align=\"center\" />\n",
    "The satellite “sees” a projection of the 3D ground displacement, $u$, onto the look vector, $\\hat{L}$, which points from the satellite to the target. Therefore, we are actually interested in the (signed magnitude of the) projection of $u$ onto $\\hat{L}$ (right). This is given by\n",
    "\n",
    "\\begin{array}{lcl} proj_{\\hat{L}}u & = & (u^T\\hat{L})\\hat{L} \\\\ u^T\\hat{L} & = & u \\cdot \\hat{L} = |u||\\hat{L}|cos(\\alpha) = |u|cos(\\alpha) \\\\ & = & u_x\\hat{L}_x+ u_y\\hat{L}_y + u_z\\hat{L}_z \\end{array}\n",
    "\n",
    "where the look vector is given by $\\hat{L}=(sin(l) \\cdot cos(t), -sin(l) \\cdot sin(t), -cos(l))$, where $l$ is the look angle measured from the nadir direction and $t$ is the satellite track angle measured clockwise from geographic north. All vectors are represented in an east-north-up basis.\n",
    "\n",
    "Our forward model takes a Mogi source, $(x_s,y_s,z_s,V)$, and computes the look displacement at any given $(x, y, z)$ point. If we represent the <i>i</i>th point on our surface grid by $x_i = (x_i,y_i,z_i)$ the the displacement vector is $u_i = u(x_i, y_i, z_i)$, and the look displacement is\n",
    "\n",
    "\\begin{equation}\n",
    "d_i = u_i \\cdot \\hat{L}\n",
    "\\end{equation}\n",
    "\n"
   ]
  },
  {
   "cell_type": "markdown",
   "id": "6b245618",
   "metadata": {},
   "source": [
    "**We Write a function to calculate a forward model for a Mogi source.**\n",
    "\n",
    "The function takes 7 input arguments:\n",
    "\n",
    "- n1           : the north coordinate component of the source location [m]\n",
    "- e1           : the east coordinate component of the source location [m]\n",
    "- depth        : the depth of the source [m]\n",
    "- delta_volume : the volume change [m^3]\n",
    "- northing     : grid of surface observations (north compoent)\n",
    "- easting      : grid of surface observations (east component)\n",
    "- plook        : the look angle for the InSAR mission"
   ]
  },
  {
   "cell_type": "code",
   "execution_count": null,
   "id": "39b3184f",
   "metadata": {},
   "outputs": [],
   "source": [
    "def calc_forward_model_mogi(n1, e1, depth, delta_volume, northing, easting, plook):\n",
    "    \n",
    "    # This geophysical coefficient is needed to describe how pressure relates to volume change\n",
    "    displacement_coefficient = (1e6*delta_volume*3)/(np.pi*4)\n",
    "    \n",
    "    # Calculating the horizontal distance from every point in the displacement map to the x/y source location\n",
    "    d_mat = np.sqrt(np.square(northing-n1) + np.square(easting-e1))\n",
    "    \n",
    "    # denominator of displacement field for mogi source\n",
    "    tmp_hyp = np.power(np.square(d_mat) + np.square(depth),1.5)\n",
    "    \n",
    "    # horizontal displacement\n",
    "    horizontal_displacement = displacement_coefficient * d_mat / tmp_hyp\n",
    "    \n",
    "    # vertical displacement\n",
    "    vertical_displacement = displacement_coefficient * depth / tmp_hyp\n",
    "    \n",
    "    # azimuthal angle\n",
    "    azimuth = np.arctan2((easting-e1), (northing-n1))\n",
    "    \n",
    "    # compute north and east displacement from horizontal displacement and azimuth angle\n",
    "    east_displacement = np.sin(azimuth) * horizontal_displacement\n",
    "    north_displacement = np.cos(azimuth) * horizontal_displacement\n",
    "    \n",
    "    # project displacement field onto look vector\n",
    "    temp = np.concatenate((east_displacement, north_displacement, vertical_displacement), axis=1)\n",
    "    delta_range = temp.dot(np.transpose([plook]))\n",
    "    delta_range = -1.0 * delta_range\n",
    "    return delta_range"
   ]
  },
  {
   "cell_type": "markdown",
   "id": "d428cf54",
   "metadata": {},
   "source": [
    "**Here, we write a function to create simulated displacement data based on Mogi Source Model parameters:**"
   ]
  },
  {
   "cell_type": "code",
   "execution_count": null,
   "id": "e908c926",
   "metadata": {},
   "outputs": [],
   "source": [
    "def displacement_data_from_mogi(x, y, z, volume, iplot, imask):\n",
    "    # Organizing model parameters\n",
    "    bvc = [x, y, z, volume, 0, 0, 0, 0]\n",
    "    bvc = np.asarray(bvc, dtype=object)\n",
    "    bvc = np.transpose(bvc)\n",
    "    \n",
    "    # Setting acquisition parameters\n",
    "    track =  -13.3*np.pi / 180.0\n",
    "    look  = 23.0*np.pi / 180.0\n",
    "    plook = [-np.sin(look)*np.cos(track), np.sin(look)*np.sin(track), np.cos(look)]\n",
    "    \n",
    "    # Defining easting and northing vectors\n",
    "    northing = np.arange(0, (line)*posting, posting) / 1000\n",
    "    easting = np.arange(0, (sample)*posting, posting) / 1000\n",
    "    northing_mat = np.tile(northing, (sample, 1))\n",
    "    easting_mat = np.transpose(np.tile(easting, (line, 1)))\n",
    "    northing_vec = np.reshape(northing_mat, (line*sample, 1))\n",
    "    easting_vec = np.reshape(easting_mat, (line*sample, 1))\n",
    "    \n",
    "    # Handing coordinates and model parameters over to the rngchg_mogi function\n",
    "    calc_range = calc_forward_model_mogi(bvc[1], bvc[0], bvc[2], bvc[3], northing_vec, easting_vec, plook)\n",
    "    \n",
    "    # Reshaping surface displacement data derived via calc_forward_model_mogi()\n",
    "    surface_displacement = np.reshape(calc_range, (sample,line))\n",
    "    \n",
    "    # return rotated surface displacement\n",
    "    return np.transpose(np.fliplr(surface_displacement))"
   ]
  },
  {
   "cell_type": "markdown",
   "id": "c00564e6",
   "metadata": {},
   "source": [
    "**Plotting The Mogi Forward Model**"
   ]
  },
  {
   "cell_type": "code",
   "execution_count": null,
   "id": "a002eeb6",
   "metadata": {},
   "outputs": [],
   "source": [
    "plt.rcParams.update({'font.size': 14})\n",
    "extent_x = extents((np.arange(1, sample*posting, posting))/1000)\n",
    "extent_y = extents((np.arange(1, line*posting, posting))/1000)\n",
    "extent_xy = extent_x + extent_y\n",
    "\n",
    "xs = np.arange(18, 24.2, 0.4)\n",
    "ys = np.arange(20, 24.2, 0.4)\n",
    "\n",
    "zs = 2.58;\n",
    "volume = 0.0034;\n",
    "xa = [0, 7, 15]\n",
    "ya = [0 ,5, 10]\n",
    "\n",
    "fig = plt.figure(figsize=(18, 18))\n",
    "cmap = copy.copy(plt.cm.get_cmap(\"jet\"))\n",
    "subplot_index = 1\n",
    "\n",
    "for k in xa:\n",
    "    for l in ya: \n",
    "        ax = fig.add_subplot(3, 3, subplot_index)\n",
    "        predicted_displacement_map = displacement_data_from_mogi(xs[k], ys[l], zs, volume, 0, 0)\n",
    "        predicted_displacement_map_m = np.ma.masked_where(observed_displacement_map==0, predicted_displacement_map)\n",
    "        im = ax.imshow(predicted_displacement_map_m, cmap=cmap, extent=extent_xy)\n",
    "        cbar = ax.figure.colorbar(im, ax=ax, orientation='horizontal')\n",
    "        plt.grid()\n",
    "        im.set_clim(-30, 30)\n",
    "        ax.plot(xs[k],ys[l], 'k*', markersize=25, markerfacecolor='w')\n",
    "        ax.set_title('Source: X=%4.2fkm; Y=%4.2fkm' % (xs[k], ys[l]))\n",
    "        ax.set_xlabel(\"Easting [km]\")\n",
    "        ax.set_ylabel(\"Northing [km]\")\n",
    "        subplot_index += 1"
   ]
  },
  {
   "cell_type": "markdown",
   "id": "a920d91a",
   "metadata": {},
   "source": [
    "### Question 1 \n",
    "<div class=\"alert alert-info\">\n",
    "Perform reference run in code cell above using source model parameters to $z_{s1} = 2.5 km$; $V_1 = 0.01 km^3$. Copy the plotting code to the following cell and change the source parameters.\n",
    "</div>"
   ]
  },
  {
   "cell_type": "code",
   "execution_count": null,
   "id": "fd494ea9",
   "metadata": {},
   "outputs": [],
   "source": []
  },
  {
   "cell_type": "markdown",
   "id": "ce4a6b1f",
   "metadata": {},
   "source": [
    "### Question 2\n",
    "<div class=\"alert alert-info\">\n",
    "Set source model parameters to $z_{s2} = 7.5 km$; $V_1 = 0.01 km^3$.\n",
    "</div>"
   ]
  },
  {
   "cell_type": "code",
   "execution_count": null,
   "id": "d3c2bbda",
   "metadata": {},
   "outputs": [],
   "source": []
  },
  {
   "cell_type": "markdown",
   "id": "64374065",
   "metadata": {},
   "source": [
    "### Question 3\n",
    "<div class=\"alert alert-info\">\n",
    "Set source model parameters to $V_2 = 0.03 km^3$ and $z_{s1} = 2.5 km$.\n",
    "</div>"
   ]
  },
  {
   "cell_type": "code",
   "execution_count": null,
   "id": "16a565f7",
   "metadata": {},
   "outputs": [],
   "source": []
  },
  {
   "cell_type": "markdown",
   "id": "21ee9342",
   "metadata": {},
   "source": [
    "### Question 4\n",
    "<div class=\"alert alert-info\">\n",
    "Set source model parameters to $V_2 = 0.06 km^3$ and $z_{s2} = 2.5 km$.\n",
    "</div>"
   ]
  },
  {
   "cell_type": "code",
   "execution_count": null,
   "id": "e8e2fb85",
   "metadata": {},
   "outputs": [],
   "source": []
  },
  {
   "cell_type": "markdown",
   "id": "226daab4",
   "metadata": {},
   "source": [
    "### Question 5\n",
    "\n",
    "<div class=\"alert alert-danger\">\n",
    "Discuss you results.\n",
    "</div>"
   ]
  },
  {
   "cell_type": "raw",
   "id": "de4d6014",
   "metadata": {},
   "source": [
    "\n",
    "\n",
    "\n",
    "\n",
    "\n",
    "\n",
    "\n",
    "\n",
    "\n",
    "\n"
   ]
  },
  {
   "cell_type": "markdown",
   "id": "4716688c",
   "metadata": {},
   "source": [
    "### Solving the Inverse Model\n",
    "\n",
    "We can now represent the Mogi *forward problem* as \n",
    "\n",
    "\\begin{equation}\n",
    "g(m) = d\n",
    "\\end{equation}\n",
    "\n",
    "where $g(·)$ describes the forward model in the very first equation in this notebook, $m$ is the (unknown) Mogi model, and $d$ is the predicted interferogram.\n",
    "\n",
    "\n",
    "The inverse problem seeks to determine the optimal parameters $(\\hat{x_s},\\hat{y_s},\\hat{z_s},\\hat{V})$ of the Mogi model $m$ by minimizing the *misfit* between predictions, $g(m)$, and observations $d^{obs}$ according to\n",
    "    \n",
    "\\begin{equation}\n",
    "\\sum{\\Big[g(m) - d^{obs}\\Big]^2}\n",
    "\\end{equation}\n",
    "\n",
    "This equation describes misfit using the *method of least-squares*, a standard approach to approximate the solution of an overdetermined equation system. We will use a *grid-search* approach to find the set of model parameters that minimize the the misfit function. The approach is composed of the following processing steps: \n",
    "\n",
    "1. Loop through the mogi model parameters\n",
    "2. Calculate the forward model for each set of parameters\n",
    "3. Calculate the misfit $\\sum{[g(m) - d^{obs}]^2}$, and\n",
    "4. Find the parameter set that minimizes this misfit.\n",
    "\n",
    "### Running Grid-Search to find Best Fitting Model Parameter $(\\hat{x}_s,\\hat{y}_s)$\n",
    "\n",
    "The following code cell runs a grid-search approach to find the best fitting Mogi source parameters for the 2000-2002 displacement event at Okmok. To keep things simple, we will fix the depth $z_s$ and volume change $V$ parameters close to their \"true\" values and search only for the correct east/north source location ($x_s,y_s$).\n"
   ]
  },
  {
   "cell_type": "code",
   "execution_count": null,
   "id": "30debc59",
   "metadata": {},
   "outputs": [],
   "source": [
    "# FIX Z AND dV, SEARCH OVER X AND Y\n",
    "\n",
    "# Setting up search parameters\n",
    "xs = np.arange(19, 22.2, 0.2)\n",
    "ys = np.arange(21, 23.2, 0.2)\n",
    "zs = 2.58;\n",
    "volume = 0.0034;\n",
    "\n",
    "nx = xs.size\n",
    "ny = ys.size\n",
    "ng = nx * ny;\n",
    "\n",
    "print(f\"fixed z = {zs}km, dV = {volume}, searching over (x,y)\")\n",
    "\n",
    "misfit = np.zeros((nx, ny))\n",
    "subplot_index = 0\n",
    "\n",
    "# Commence grid-search for best model parameters\n",
    "for k, xv in enumerate(xs):\n",
    "    for l, yv in enumerate(ys):\n",
    "        subplot_index += 1\n",
    "        predicted_displacement_map = displacement_data_from_mogi(xs[k], ys[l], zs, volume, 0, 0)\n",
    "        predicted_displacement_map_m = np.ma.masked_where(observed_displacement_map==0, predicted_displacement_map)\n",
    "        misfit[k,l] = np.sum(np.square(observed_displacement_map_m - predicted_displacement_map_m))\n",
    "    print(f\"Source {subplot_index:3d}/{ng:3d} is x = {xs[k]:.2f} km, y = {ys[l]:.2f} km\")\n",
    "\n",
    "# Searching for the minimum in the misfit matrix\n",
    "mmf = np.where(misfit == np.min(misfit))\n",
    "print(f\"\\n----------------------------------------------------------------\")\n",
    "print('Best fitting Mogi Source located at: X = %5.2f km; Y = %5.2f km' % (xs[mmf[0]], ys[mmf[1]]))\n",
    "print(f\"----------------------------------------------------------------\")"
   ]
  },
  {
   "cell_type": "markdown",
   "id": "16c9ddd5",
   "metadata": {},
   "source": [
    "### Plot Best-Fitting Mogi Forward Model and Compare to Observations\n",
    "\n",
    "With the best-fitting model parameters defined, you can now analyze how well the model fits the InSAR-observed surface displacement. The best way to do that is to look at both the observed and predicted displacement maps and compare their spatial patterns. Additionally, we will also plot the residuals (**observed_displacement_map** - **observed_displacement_map**) to determine if there are additional signals in the data that are not modeled using Mogi theory. \n",
    "\n",
    "**We Compare the observed and predicted displacement maps**"
   ]
  },
  {
   "cell_type": "code",
   "execution_count": null,
   "id": "93a71c17",
   "metadata": {},
   "outputs": [],
   "source": [
    "# Calculate predicted displacement map for best-fitting Mogi parameters:\n",
    "predicted_displacement_map = displacement_data_from_mogi(xs[mmf[0]], ys[mmf[1]], zs, volume, 0, 0)\n",
    "\n",
    "# Mask the predicted displacement map to remove pixels incoherent in the observations:\n",
    "predicted_displacement_map_m = np.ma.masked_where(observed_displacement_map==0, predicted_displacement_map)\n",
    "\n",
    "# Plot observed displacement map\n",
    "plot_model(observed_displacement_map_m, line, sample, posting)\n",
    "\n",
    "# Plot simulated displacement map\n",
    "plot_model(predicted_displacement_map_m, line, sample, posting)\n",
    "\n",
    "# Plot simulated displacement map without mask applied\n",
    "plot_model(predicted_displacement_map, line, sample, posting)"
   ]
  },
  {
   "cell_type": "markdown",
   "id": "e127bcd1",
   "metadata": {},
   "source": [
    "###  Plot and Inspect the Misfit Function\n",
    "\n",
    "The code cell below plots the misfit function ($\\sum{[g(m) - d^{obs}]^2}$) describing the fit of different Mogi source parameterizations to the observed InSAR data. You should notice a clear minimum in the misfit plot at the location of the best fitting source location estimated above. \n",
    "    \n",
    "You may notice that, even for the best fitting solution, the misfit does not become zero. This could be due to other signals in the InSAR data (e.g., atmospheric effects or residual topography). Alternatively, it could also indicate that the observed displacement doesn't fully comply with Mogi theory. \n",
    "\n",
    "**Plot the misfit function ($\\sum{[g(m) - d^{obs}]^2}$):**"
   ]
  },
  {
   "cell_type": "code",
   "execution_count": null,
   "id": "dc12f12c",
   "metadata": {},
   "outputs": [],
   "source": [
    "plt.rcParams.update({'font.size': 18})\n",
    "extent_xy = extents(xs) + extents(ys)\n",
    "fig = plt.figure(figsize=(10, 10))\n",
    "cmap = copy.copy(plt.cm.get_cmap(\"jet\"))\n",
    "ax1 = fig.add_subplot(1, 1 ,1)\n",
    "im = ax1.imshow(np.transpose(misfit), origin='lower', cmap=cmap, extent=extent_xy)\n",
    "# USE THIS COMMAND TO CHANGE COLOR SCALING: im.set_clim(-30, 30)\n",
    "ax1.set_aspect('auto')\n",
    "cbar = ax1.figure.colorbar(im, ax=ax1, orientation='horizontal')\n",
    "ax1.plot(xs[mmf[0]], ys[mmf[1]], 'k*', markersize=25, markerfacecolor='w')\n",
    "ax1.set_title(\"Misfit Function for Mogi-Source Approximation\")\n",
    "ax1.set_xlabel(\"Easting [km]\")\n",
    "ax1.set_ylabel(\"Northing [km]\")"
   ]
  },
  {
   "cell_type": "markdown",
   "id": "c74c3621",
   "metadata": {},
   "source": [
    "### Question 6\n",
    "\n",
    "\n",
    "<div class=\"alert alert-info\">\n",
    "For this second grid-search run, we now switch out the model parameters we are trying to estimate. We will assume that the lateral location of the Mogi source is now fixed to its estimated value ($\\hat{x}_s = 20.6 km$; $\\hat{y}_s = 21.8 km$).\n",
    "    \n",
    "\n",
    "- Using the previous grid-search script as a template, <b>write a new grid-search script to search for the best fitting source model depth ($z_s$) and volume change ($V$)</b>\n",
    "    \n",
    "</div>"
   ]
  },
  {
   "cell_type": "code",
   "execution_count": null,
   "id": "9ab4453f",
   "metadata": {},
   "outputs": [],
   "source": []
  },
  {
   "cell_type": "markdown",
   "id": "aa126c6a",
   "metadata": {},
   "source": [
    "### Question 7\n",
    "\n",
    "\n",
    "<div class=\"alert alert-info\">\n",
    "Plot your missfit fuction as well as the comparison plot bewteen the best-fit and observed interferograms.\n",
    "    \n",
    "</div>"
   ]
  },
  {
   "cell_type": "code",
   "execution_count": null,
   "id": "7125b134",
   "metadata": {},
   "outputs": [],
   "source": []
  },
  {
   "cell_type": "code",
   "execution_count": null,
   "id": "f3858ae6",
   "metadata": {},
   "outputs": [],
   "source": []
  },
  {
   "cell_type": "markdown",
   "id": "0f553983",
   "metadata": {},
   "source": [
    "### Question 8\n",
    "\n",
    "\n",
    "<div class=\"alert alert-info\">\n",
    "Discuss your results. You should see that the shape of the function is different. Misfit function 1 is largely of circular shape while misfit function 2 appears elongated. Interpret this pattern.\n",
    "</div>"
   ]
  },
  {
   "cell_type": "raw",
   "id": "cce015d7",
   "metadata": {},
   "source": [
    "\n",
    "\n",
    "\n",
    "\n",
    "\n",
    "\n",
    "\n",
    "\n",
    "\n",
    "\n",
    "\n"
   ]
  },
  {
   "cell_type": "markdown",
   "id": "d1ab5c83",
   "metadata": {},
   "source": [
    "### ... Congratulations you reached the END of Practical 2 \n",
    "🎉\n",
    "🎉\n",
    "🎉\n",
    "🎉\n",
    "\n",
    "Save your notebook and submit it via Canvas for Assignment 2."
   ]
  }
 ],
 "metadata": {
  "kernelspec": {
   "display_name": "Python 3 (ipykernel)",
   "language": "python",
   "name": "python3"
  },
  "language_info": {
   "codemirror_mode": {
    "name": "ipython",
    "version": 3
   },
   "file_extension": ".py",
   "mimetype": "text/x-python",
   "name": "python",
   "nbconvert_exporter": "python",
   "pygments_lexer": "ipython3",
   "version": "3.10.2"
  }
 },
 "nbformat": 4,
 "nbformat_minor": 5
}
